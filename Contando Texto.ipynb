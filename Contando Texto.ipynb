{
 "cells": [
  {
   "cell_type": "code",
   "execution_count": 2,
   "id": "a8f21b3d",
   "metadata": {},
   "outputs": [],
   "source": [
    "import nltk"
   ]
  },
  {
   "cell_type": "markdown",
   "id": "789d94f7",
   "metadata": {},
   "source": [
    "https://www.gutenberg.org/"
   ]
  },
  {
   "cell_type": "code",
   "execution_count": 4,
   "id": "277d591c",
   "metadata": {},
   "outputs": [
    {
     "data": {
      "text/plain": [
       "['austen-emma.txt',\n",
       " 'austen-persuasion.txt',\n",
       " 'austen-sense.txt',\n",
       " 'bible-kjv.txt',\n",
       " 'blake-poems.txt',\n",
       " 'bryant-stories.txt',\n",
       " 'burgess-busterbrown.txt',\n",
       " 'carroll-alice.txt',\n",
       " 'chesterton-ball.txt',\n",
       " 'chesterton-brown.txt',\n",
       " 'chesterton-thursday.txt',\n",
       " 'edgeworth-parents.txt',\n",
       " 'melville-moby_dick.txt',\n",
       " 'milton-paradise.txt',\n",
       " 'shakespeare-caesar.txt',\n",
       " 'shakespeare-hamlet.txt',\n",
       " 'shakespeare-macbeth.txt',\n",
       " 'whitman-leaves.txt']"
      ]
     },
     "execution_count": 4,
     "metadata": {},
     "output_type": "execute_result"
    }
   ],
   "source": [
    "#chamando de volta todos os arquivos de texto que carregamos mias cedo quando fizemos download do caderno associado\n",
    "# 'U' - representação exterma do nome do arquivo\n",
    "nltk.corpus.gutenberg.fileids()"
   ]
  },
  {
   "cell_type": "code",
   "execution_count": 6,
   "id": "8b66a90c",
   "metadata": {},
   "outputs": [],
   "source": [
    "#colocando em md as palavras do arquivo escolhido\n",
    "md = nltk.corpus.gutenberg.words(\"melville-moby_dick.txt\")"
   ]
  },
  {
   "cell_type": "code",
   "execution_count": 7,
   "id": "bf400145",
   "metadata": {},
   "outputs": [
    {
     "data": {
      "text/plain": [
       "['[', 'Moby', 'Dick', 'by', 'Herman', 'Melville', '1851', ']']"
      ]
     },
     "execution_count": 7,
     "metadata": {},
     "output_type": "execute_result"
    }
   ],
   "source": [
    "#se comporta como uma lista\n",
    "#olhando para os primeiros 8 itens\n",
    "md[:8]"
   ]
  },
  {
   "cell_type": "code",
   "execution_count": 8,
   "id": "f4a231ef",
   "metadata": {},
   "outputs": [
    {
     "data": {
      "text/plain": [
       "906"
      ]
     },
     "execution_count": 8,
     "metadata": {},
     "output_type": "execute_result"
    }
   ],
   "source": [
    "#contando quantas vezes uma palavra aparece\n",
    "md.count(\"whale\")"
   ]
  },
  {
   "cell_type": "code",
   "execution_count": 9,
   "id": "8fad3f7d",
   "metadata": {},
   "outputs": [
    {
     "data": {
      "text/plain": [
       "330"
      ]
     },
     "execution_count": 9,
     "metadata": {},
     "output_type": "execute_result"
    }
   ],
   "source": [
    "md.count(\"boat\")"
   ]
  },
  {
   "cell_type": "code",
   "execution_count": 10,
   "id": "e40459b0",
   "metadata": {},
   "outputs": [
    {
     "data": {
      "text/plain": [
       "0"
      ]
     },
     "execution_count": 10,
     "metadata": {},
     "output_type": "execute_result"
    }
   ],
   "source": [
    "md.count(\"laptop\")"
   ]
  },
  {
   "cell_type": "code",
   "execution_count": 12,
   "id": "f3e97cb7",
   "metadata": {},
   "outputs": [
    {
     "data": {
      "text/plain": [
       "260819"
      ]
     },
     "execution_count": 12,
     "metadata": {},
     "output_type": "execute_result"
    }
   ],
   "source": [
    "#quantas palavras temos no livro\n",
    "len(md)"
   ]
  },
  {
   "cell_type": "code",
   "execution_count": 15,
   "id": "c5acef9d",
   "metadata": {},
   "outputs": [],
   "source": [
    "#descobrir quantas palavras unicas existem no livro\n",
    "md_set = set(md)"
   ]
  },
  {
   "cell_type": "code",
   "execution_count": 16,
   "id": "9376cb2e",
   "metadata": {},
   "outputs": [
    {
     "data": {
      "text/plain": [
       "19317"
      ]
     },
     "execution_count": 16,
     "metadata": {},
     "output_type": "execute_result"
    }
   ],
   "source": [
    "len(md_set)"
   ]
  },
  {
   "cell_type": "code",
   "execution_count": null,
   "id": "35de8783",
   "metadata": {},
   "outputs": [],
   "source": [
    "#numero medio de vezes que qualque palavra é usada no livro\n",
    "from __future__ import division"
   ]
  },
  {
   "cell_type": "code",
   "execution_count": 17,
   "id": "08ab87ac",
   "metadata": {},
   "outputs": [
    {
     "data": {
      "text/plain": [
       "13.502044830977896"
      ]
     },
     "execution_count": 17,
     "metadata": {},
     "output_type": "execute_result"
    }
   ],
   "source": [
    "len(md)/len(md_set)"
   ]
  },
  {
   "cell_type": "code",
   "execution_count": 19,
   "id": "c540e56c",
   "metadata": {},
   "outputs": [],
   "source": [
    "#lista de frases\n",
    "md_sents = nltk.corpus.gutenberg.sents(\"melville-moby_dick.txt\")"
   ]
  },
  {
   "cell_type": "code",
   "execution_count": 20,
   "id": "309eb098",
   "metadata": {},
   "outputs": [
    {
     "data": {
      "text/plain": [
       "25.928919375683467"
      ]
     },
     "execution_count": 20,
     "metadata": {},
     "output_type": "execute_result"
    }
   ],
   "source": [
    "#numero medio de palavras\n",
    "len(md)/len(md_sents)"
   ]
  }
 ],
 "metadata": {
  "kernelspec": {
   "display_name": "Python 3 (ipykernel)",
   "language": "python",
   "name": "python3"
  },
  "language_info": {
   "codemirror_mode": {
    "name": "ipython",
    "version": 3
   },
   "file_extension": ".py",
   "mimetype": "text/x-python",
   "name": "python",
   "nbconvert_exporter": "python",
   "pygments_lexer": "ipython3",
   "version": "3.9.12"
  }
 },
 "nbformat": 4,
 "nbformat_minor": 5
}
