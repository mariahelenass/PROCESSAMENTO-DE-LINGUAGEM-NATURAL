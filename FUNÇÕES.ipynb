{
 "cells": [
  {
   "cell_type": "code",
   "execution_count": 1,
   "id": "2e983a4c",
   "metadata": {},
   "outputs": [],
   "source": [
    "#criando funções \n",
    "def my_function(something):\n",
    "    return something"
   ]
  },
  {
   "cell_type": "code",
   "execution_count": 2,
   "id": "846cc680",
   "metadata": {},
   "outputs": [
    {
     "data": {
      "text/plain": [
       "'hello'"
      ]
     },
     "execution_count": 2,
     "metadata": {},
     "output_type": "execute_result"
    }
   ],
   "source": [
    "my_function(\"hello\")"
   ]
  },
  {
   "cell_type": "code",
   "execution_count": 3,
   "id": "6dce1482",
   "metadata": {},
   "outputs": [
    {
     "data": {
      "text/plain": [
       "2"
      ]
     },
     "execution_count": 3,
     "metadata": {},
     "output_type": "execute_result"
    }
   ],
   "source": [
    "my_function(2)"
   ]
  },
  {
   "cell_type": "code",
   "execution_count": 13,
   "id": "85a8d33e",
   "metadata": {},
   "outputs": [],
   "source": [
    "#devolve a palavra e tambem quanto dura a palavra\n",
    "def information(word):\n",
    "    return \"Word: \" + str(word) + \", Length: \" + str(len(word))"
   ]
  },
  {
   "cell_type": "code",
   "execution_count": 14,
   "id": "80bfa42c",
   "metadata": {},
   "outputs": [
    {
     "data": {
      "text/plain": [
       "'Word: hello, Length: 5'"
      ]
     },
     "execution_count": 14,
     "metadata": {},
     "output_type": "execute_result"
    }
   ],
   "source": [
    "information(\"hello\")"
   ]
  }
 ],
 "metadata": {
  "kernelspec": {
   "display_name": "Python 3 (ipykernel)",
   "language": "python",
   "name": "python3"
  },
  "language_info": {
   "codemirror_mode": {
    "name": "ipython",
    "version": 3
   },
   "file_extension": ".py",
   "mimetype": "text/x-python",
   "name": "python",
   "nbconvert_exporter": "python",
   "pygments_lexer": "ipython3",
   "version": "3.9.12"
  }
 },
 "nbformat": 4,
 "nbformat_minor": 5
}
