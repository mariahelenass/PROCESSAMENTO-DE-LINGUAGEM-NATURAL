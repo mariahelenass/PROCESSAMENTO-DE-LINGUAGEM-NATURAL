{
 "cells": [
  {
   "cell_type": "markdown",
   "id": "3478b2fc",
   "metadata": {},
   "source": [
    "# ANALISE DE SENTIMENTO"
   ]
  },
  {
   "cell_type": "code",
   "execution_count": 19,
   "id": "f282a822",
   "metadata": {},
   "outputs": [],
   "source": [
    "import nltk\n",
    "import csv\n",
    "import numpy as np"
   ]
  },
  {
   "cell_type": "code",
   "execution_count": 20,
   "id": "c9f3ac6e",
   "metadata": {},
   "outputs": [],
   "source": [
    "negative = []\n",
    "with open(\"words_negative.csv\", \"r\") as file:\n",
    "    reader = csv.reader(file)\n",
    "    for row in reader:\n",
    "        negative.append(row)"
   ]
  },
  {
   "cell_type": "code",
   "execution_count": 21,
   "id": "998eed02",
   "metadata": {},
   "outputs": [],
   "source": [
    "positive = []\n",
    "with open(\"words_positive.csv\", \"r\") as file:\n",
    "    reader = csv.reader(file)\n",
    "    for row in reader:\n",
    "        positive.append(row)"
   ]
  },
  {
   "cell_type": "code",
   "execution_count": 22,
   "id": "68926cc3",
   "metadata": {},
   "outputs": [
    {
     "data": {
      "text/plain": [
       "[['absolutely'],\n",
       " ['adorable'],\n",
       " ['accepted'],\n",
       " ['acclaimed'],\n",
       " ['accomplish'],\n",
       " ['accomplishment'],\n",
       " ['achievement'],\n",
       " ['action'],\n",
       " ['active'],\n",
       " ['admire']]"
      ]
     },
     "execution_count": 22,
     "metadata": {},
     "output_type": "execute_result"
    }
   ],
   "source": [
    "positive[:10]"
   ]
  },
  {
   "cell_type": "code",
   "execution_count": 23,
   "id": "2aec7b86",
   "metadata": {},
   "outputs": [
    {
     "data": {
      "text/plain": [
       "[['abysmal'],\n",
       " ['adverse'],\n",
       " ['alarming'],\n",
       " ['angry'],\n",
       " ['annoy'],\n",
       " ['annoying'],\n",
       " ['anxious'],\n",
       " ['apathy'],\n",
       " ['appalling'],\n",
       " ['atrocious']]"
      ]
     },
     "execution_count": 23,
     "metadata": {},
     "output_type": "execute_result"
    }
   ],
   "source": [
    "negative[:10]"
   ]
  },
  {
   "cell_type": "code",
   "execution_count": 24,
   "id": "d1468bd3",
   "metadata": {},
   "outputs": [],
   "source": [
    "def sentiment(text):\n",
    "    # text_sent recebe os tokens das frases\n",
    "    text_sent = nltk.sent_tokenize(text)\n",
    "    # para uma sentença em text_sent\n",
    "    for sentence in text_sent:\n",
    "        n_count = 0\n",
    "        p_count = 0\n",
    "        # tokenização das palavras da frase\n",
    "        sent_words = nltk.word_tokenize(sentence)\n",
    "        # para palavra em sent_words\n",
    "        for word in sent_words:\n",
    "            for item in positive:\n",
    "                if(word == item[0]):\n",
    "                    p_count +=1\n",
    "            for item in negative:\n",
    "                if(word == item[0]):\n",
    "                    n_count +=1\n",
    "        if(p_count > 0 and n_count == 0):\n",
    "            print(\"+ : \" + sentence)\n",
    "        elif(n_count%2 > 0):\n",
    "            print(\"- : \" + sentence)\n",
    "        elif(n_count%2 == 0 and n_count > 0):\n",
    "            print(\"+ :\" + sentence)\n",
    "        else:\n",
    "            print(\"? : \" + sentence)"
   ]
  },
  {
   "cell_type": "code",
   "execution_count": 25,
   "id": "77ee6b3b",
   "metadata": {},
   "outputs": [
    {
     "name": "stdout",
     "output_type": "stream",
     "text": [
      "+ : It was terribly good\n"
     ]
    }
   ],
   "source": [
    "sentiment(\"It was terribly good\")"
   ]
  },
  {
   "cell_type": "code",
   "execution_count": 26,
   "id": "0805ca25",
   "metadata": {},
   "outputs": [
    {
     "name": "stdout",
     "output_type": "stream",
     "text": [
      "- : I hate you\n"
     ]
    }
   ],
   "source": [
    "sentiment(\"I hate you \")"
   ]
  },
  {
   "cell_type": "code",
   "execution_count": 27,
   "id": "160bdd1f",
   "metadata": {},
   "outputs": [
    {
     "name": "stdout",
     "output_type": "stream",
     "text": [
      "? : This is sentance about nothing\n"
     ]
    }
   ],
   "source": [
    "sentiment(\"This is sentance about nothing\")"
   ]
  },
  {
   "cell_type": "code",
   "execution_count": 28,
   "id": "2f22a365",
   "metadata": {},
   "outputs": [],
   "source": [
    "def sentiment(text):\n",
    "    temp = []\n",
    "    # text_sent recebe os tokens das frases\n",
    "    text_sent = nltk.sent_tokenize(text)\n",
    "    # para uma sentença em text_sent\n",
    "    for sentence in text_sent:\n",
    "        n_count = 0\n",
    "        p_count = 0\n",
    "        # tokenização das palavras da frase\n",
    "        sent_words = nltk.word_tokenize(sentence)\n",
    "        # para palavra em sent_words\n",
    "        for word in sent_words:\n",
    "            for item in positive:\n",
    "                if(word == item[0]):\n",
    "                    p_count +=1\n",
    "            for item in negative:\n",
    "                if(word == item[0]):\n",
    "                    n_count +=1\n",
    "        if(p_count > 0 and n_count == 0):\n",
    "            temp.append(1)\n",
    "        elif(n_count%2 > 0):\n",
    "            temp.append(-1)\n",
    "        elif(n_count%2 == 0 and n_count > 0):\n",
    "            temp.append(1)\n",
    "        else:\n",
    "            temp.append(0)"
   ]
  },
  {
   "cell_type": "code",
   "execution_count": 29,
   "id": "6ffb8bae",
   "metadata": {},
   "outputs": [],
   "source": [
    "comments = []\n",
    "with open(\"reviews.csv\", \"r\") as file:\n",
    "    reader = csv.reader(file)\n",
    "    for row in reader:\n",
    "        comments.append(row)"
   ]
  },
  {
   "cell_type": "code",
   "execution_count": 30,
   "id": "67398b84",
   "metadata": {},
   "outputs": [
    {
     "data": {
      "text/plain": [
       "[\"This camera is perfect for an enthusiastic amateur photographer. The pictures are razor-sharp, even in macro. It is small enough to fit easily in a coat pocket or purse. It is light enough to carry around all day without bother. Operating its many features is easy and often obvious - i'm no annie lebovitz, but i was able to figure out most of its abilities just messing around with it at a camera store. The manual does a fine job filling in any blanks that remain. The auto-focus performs well, but i love having the 12 optional scene modes - they are dummy-proof, and correspond to many situations in which i would actually seek to use the camera. Comes with a 16 mb compact flash and one rechargeable battery the charging unit, included, is fast and small. I bought a 256 mb cf and a second battery, so it's good to go on a long vacation. I enthusiastically recommend this camera.\"]"
      ]
     },
     "execution_count": 30,
     "metadata": {},
     "output_type": "execute_result"
    }
   ],
   "source": [
    "comments[0]"
   ]
  }
 ],
 "metadata": {
  "kernelspec": {
   "display_name": "Python 3 (ipykernel)",
   "language": "python",
   "name": "python3"
  },
  "language_info": {
   "codemirror_mode": {
    "name": "ipython",
    "version": 3
   },
   "file_extension": ".py",
   "mimetype": "text/x-python",
   "name": "python",
   "nbconvert_exporter": "python",
   "pygments_lexer": "ipython3",
   "version": "3.9.12"
  }
 },
 "nbformat": 4,
 "nbformat_minor": 5
}
