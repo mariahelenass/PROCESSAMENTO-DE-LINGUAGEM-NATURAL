{
 "cells": [
  {
   "cell_type": "code",
   "execution_count": 1,
   "id": "334b0969",
   "metadata": {},
   "outputs": [],
   "source": [
    "import nltk"
   ]
  },
  {
   "cell_type": "code",
   "execution_count": 8,
   "id": "dd2449a0",
   "metadata": {},
   "outputs": [],
   "source": [
    "names = [(\"Group A\", \"Paul\"), (\"Group A\", \"Jose\"), (\"Group A\", \"Izabelle\"), (\"Group B\", \"Maria\"), (\"Group B\", \"Juquinha\"), (\"Group B\", \"Maria\")]"
   ]
  },
  {
   "cell_type": "code",
   "execution_count": 9,
   "id": "12f12b7a",
   "metadata": {},
   "outputs": [
    {
     "data": {
      "text/plain": [
       "[('Group A', 'Paul'),\n",
       " ('Group A', 'Jose'),\n",
       " ('Group A', 'Izabelle'),\n",
       " ('Group B', 'Maria'),\n",
       " ('Group B', 'Juquinha'),\n",
       " ('Group B', 'Maria')]"
      ]
     },
     "execution_count": 9,
     "metadata": {},
     "output_type": "execute_result"
    }
   ],
   "source": [
    "names"
   ]
  },
  {
   "cell_type": "code",
   "execution_count": 10,
   "id": "e3b40ce4",
   "metadata": {},
   "outputs": [
    {
     "data": {
      "text/plain": [
       "FreqDist({('Group B', 'Maria'): 2, ('Group A', 'Paul'): 1, ('Group A', 'Jose'): 1, ('Group A', 'Izabelle'): 1, ('Group B', 'Juquinha'): 1})"
      ]
     },
     "execution_count": 10,
     "metadata": {},
     "output_type": "execute_result"
    }
   ],
   "source": [
    "nltk.FreqDist(names)"
   ]
  },
  {
   "cell_type": "code",
   "execution_count": 12,
   "id": "9c8020e8",
   "metadata": {},
   "outputs": [
    {
     "data": {
      "text/plain": [
       "<ConditionalFreqDist with 2 conditions>"
      ]
     },
     "execution_count": 12,
     "metadata": {},
     "output_type": "execute_result"
    }
   ],
   "source": [
    "nltk.ConditionalFreqDist(names)"
   ]
  }
 ],
 "metadata": {
  "kernelspec": {
   "display_name": "Python 3 (ipykernel)",
   "language": "python",
   "name": "python3"
  },
  "language_info": {
   "codemirror_mode": {
    "name": "ipython",
    "version": 3
   },
   "file_extension": ".py",
   "mimetype": "text/x-python",
   "name": "python",
   "nbconvert_exporter": "python",
   "pygments_lexer": "ipython3",
   "version": "3.9.12"
  }
 },
 "nbformat": 4,
 "nbformat_minor": 5
}
