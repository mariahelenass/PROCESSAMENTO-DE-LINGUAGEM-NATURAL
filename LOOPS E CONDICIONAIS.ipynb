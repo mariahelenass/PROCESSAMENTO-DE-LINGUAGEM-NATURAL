{
 "cells": [
  {
   "cell_type": "code",
   "execution_count": 1,
   "id": "e2ac91da",
   "metadata": {},
   "outputs": [],
   "source": [
    "mylist = [\"python\", \"c\", \"java\", \"ruby\"]"
   ]
  },
  {
   "cell_type": "code",
   "execution_count": 2,
   "id": "ca1cec3c",
   "metadata": {},
   "outputs": [
    {
     "data": {
      "text/plain": [
       "['python', 'c', 'java', 'ruby']"
      ]
     },
     "execution_count": 2,
     "metadata": {},
     "output_type": "execute_result"
    }
   ],
   "source": [
    "mylist"
   ]
  },
  {
   "cell_type": "code",
   "execution_count": 6,
   "id": "f65fec4d",
   "metadata": {},
   "outputs": [
    {
     "name": "stdout",
     "output_type": "stream",
     "text": [
      "python\n",
      "c\n",
      "java\n",
      "ruby\n"
     ]
    }
   ],
   "source": [
    "#criando um loop\n",
    "for item in mylist:\n",
    "    print(item)"
   ]
  },
  {
   "cell_type": "code",
   "execution_count": 7,
   "id": "65a11d09",
   "metadata": {},
   "outputs": [
    {
     "data": {
      "text/plain": [
       "['python', 'c', 'java', 'ruby']"
      ]
     },
     "execution_count": 7,
     "metadata": {},
     "output_type": "execute_result"
    }
   ],
   "source": [
    "[item for item in mylist]"
   ]
  },
  {
   "cell_type": "code",
   "execution_count": 24,
   "id": "07efce40",
   "metadata": {
    "scrolled": false
   },
   "outputs": [
    {
     "name": "stdout",
     "output_type": "stream",
     "text": [
      "python is a fun programming language \n",
      "c is a fun programming language \n",
      "java is a fun programming language \n",
      "ruby is a fun programming language \n"
     ]
    }
   ],
   "source": [
    "for item in mylist:\n",
    "      print(item + \" is a fun programming language \")\n",
    "   "
   ]
  },
  {
   "cell_type": "code",
   "execution_count": 32,
   "id": "6e0b0878",
   "metadata": {},
   "outputs": [],
   "source": [
    "newlist = [item + \" is a fun programming language. \" for item in mylist]"
   ]
  },
  {
   "cell_type": "code",
   "execution_count": 33,
   "id": "9bad674c",
   "metadata": {},
   "outputs": [
    {
     "data": {
      "text/plain": [
       "['python is a fun programming language. ',\n",
       " 'c is a fun programming language. ',\n",
       " 'java is a fun programming language. ',\n",
       " 'ruby is a fun programming language. ']"
      ]
     },
     "execution_count": 33,
     "metadata": {},
     "output_type": "execute_result"
    }
   ],
   "source": [
    "newlist"
   ]
  },
  {
   "cell_type": "code",
   "execution_count": 35,
   "id": "56ab0c3f",
   "metadata": {},
   "outputs": [],
   "source": [
    "x = 10"
   ]
  },
  {
   "cell_type": "code",
   "execution_count": 36,
   "id": "ff65015f",
   "metadata": {},
   "outputs": [
    {
     "name": "stdout",
     "output_type": "stream",
     "text": [
      "It looks like x is greate than 5\n"
     ]
    }
   ],
   "source": [
    "#condicionais \n",
    "if x>5:\n",
    "    print(\"It looks like x is greate than 5\")"
   ]
  },
  {
   "cell_type": "code",
   "execution_count": 37,
   "id": "1e01ce31",
   "metadata": {},
   "outputs": [
    {
     "name": "stdout",
     "output_type": "stream",
     "text": [
      "Hello\n"
     ]
    }
   ],
   "source": [
    "if x>5 and x<20:\n",
    "    print(\"Hello\")"
   ]
  },
  {
   "cell_type": "code",
   "execution_count": 38,
   "id": "7d5ab8a7",
   "metadata": {},
   "outputs": [],
   "source": [
    "number_list = [1,2,3,4,5,6,7,8,9,10]"
   ]
  },
  {
   "cell_type": "code",
   "execution_count": 41,
   "id": "4fb7cd9c",
   "metadata": {},
   "outputs": [
    {
     "name": "stdout",
     "output_type": "stream",
     "text": [
      "1 is odd\n",
      "2 is even\n",
      "3 is odd\n",
      "4 is even\n",
      "5 is odd\n",
      "6 is even\n",
      "7 is the best number \n",
      "8 is even\n",
      "9 is odd\n",
      "10 is even\n"
     ]
    }
   ],
   "source": [
    "for number in number_list:\n",
    "    if number%2 == 0:\n",
    "        print (str(number) + \" is even\")\n",
    "    elif number == 7:\n",
    "        print (str(number) + \" is the best number \")\n",
    "    else:\n",
    "        print (str(number) + \" is odd\")"
   ]
  }
 ],
 "metadata": {
  "kernelspec": {
   "display_name": "Python 3 (ipykernel)",
   "language": "python",
   "name": "python3"
  },
  "language_info": {
   "codemirror_mode": {
    "name": "ipython",
    "version": 3
   },
   "file_extension": ".py",
   "mimetype": "text/x-python",
   "name": "python",
   "nbconvert_exporter": "python",
   "pygments_lexer": "ipython3",
   "version": "3.9.12"
  }
 },
 "nbformat": 4,
 "nbformat_minor": 5
}
