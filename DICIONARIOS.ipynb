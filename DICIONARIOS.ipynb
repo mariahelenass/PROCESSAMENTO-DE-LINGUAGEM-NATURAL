{
 "cells": [
  {
   "cell_type": "code",
   "execution_count": 2,
   "id": "bab494bb",
   "metadata": {},
   "outputs": [],
   "source": [
    "#criaçao de dicionarios\n",
    "d = {\n",
    "    \"python\": \"programming\",\n",
    "    \"english\": \"natural\",\n",
    "    \"french\": \"natural\",\n",
    "    \"ruby\": \"programming\",\n",
    "    \"javascript\": \"programming\"\n",
    "}"
   ]
  },
  {
   "cell_type": "code",
   "execution_count": 3,
   "id": "d4c3f6e3",
   "metadata": {},
   "outputs": [
    {
     "data": {
      "text/plain": [
       "{'python': 'programming',\n",
       " 'english': 'natural',\n",
       " 'french': 'natural',\n",
       " 'ruby': 'programming',\n",
       " 'javascript': 'programming'}"
      ]
     },
     "execution_count": 3,
     "metadata": {},
     "output_type": "execute_result"
    }
   ],
   "source": [
    "d"
   ]
  },
  {
   "cell_type": "code",
   "execution_count": 4,
   "id": "764195cb",
   "metadata": {},
   "outputs": [
    {
     "data": {
      "text/plain": [
       "dict"
      ]
     },
     "execution_count": 4,
     "metadata": {},
     "output_type": "execute_result"
    }
   ],
   "source": [
    "type(d)"
   ]
  },
  {
   "cell_type": "code",
   "execution_count": 5,
   "id": "a6fd0513",
   "metadata": {},
   "outputs": [
    {
     "data": {
      "text/plain": [
       "'natural'"
      ]
     },
     "execution_count": 5,
     "metadata": {},
     "output_type": "execute_result"
    }
   ],
   "source": [
    "d[\"english\"]"
   ]
  },
  {
   "cell_type": "code",
   "execution_count": 6,
   "id": "84776533",
   "metadata": {},
   "outputs": [
    {
     "data": {
      "text/plain": [
       "'programming'"
      ]
     },
     "execution_count": 6,
     "metadata": {},
     "output_type": "execute_result"
    }
   ],
   "source": [
    "d[\"python\"]"
   ]
  },
  {
   "cell_type": "code",
   "execution_count": 8,
   "id": "13db882d",
   "metadata": {},
   "outputs": [],
   "source": [
    "#adicionando no dicionario\n",
    "d[\"scala\"] = \"programming\""
   ]
  },
  {
   "cell_type": "code",
   "execution_count": 9,
   "id": "29fa2fd0",
   "metadata": {},
   "outputs": [
    {
     "data": {
      "text/plain": [
       "{'python': 'programming',\n",
       " 'english': 'natural',\n",
       " 'french': 'natural',\n",
       " 'ruby': 'programming',\n",
       " 'javascript': 'programming',\n",
       " 'scala': 'programming'}"
      ]
     },
     "execution_count": 9,
     "metadata": {},
     "output_type": "execute_result"
    }
   ],
   "source": [
    "d"
   ]
  },
  {
   "cell_type": "code",
   "execution_count": 10,
   "id": "f094a8ee",
   "metadata": {},
   "outputs": [],
   "source": [
    "d[\"languages known\"] = 3"
   ]
  },
  {
   "cell_type": "code",
   "execution_count": 11,
   "id": "0aa395e4",
   "metadata": {},
   "outputs": [
    {
     "data": {
      "text/plain": [
       "{'python': 'programming',\n",
       " 'english': 'natural',\n",
       " 'french': 'natural',\n",
       " 'ruby': 'programming',\n",
       " 'javascript': 'programming',\n",
       " 'scala': 'programming',\n",
       " 'languages known': 3}"
      ]
     },
     "execution_count": 11,
     "metadata": {},
     "output_type": "execute_result"
    }
   ],
   "source": [
    "d"
   ]
  },
  {
   "cell_type": "code",
   "execution_count": 12,
   "id": "d4a11a72",
   "metadata": {},
   "outputs": [
    {
     "data": {
      "text/plain": [
       "dict_keys(['python', 'english', 'french', 'ruby', 'javascript', 'scala', 'languages known'])"
      ]
     },
     "execution_count": 12,
     "metadata": {},
     "output_type": "execute_result"
    }
   ],
   "source": [
    "#procurando as chaves do dicionario\n",
    "d.keys()"
   ]
  },
  {
   "cell_type": "code",
   "execution_count": 13,
   "id": "40736e55",
   "metadata": {},
   "outputs": [
    {
     "data": {
      "text/plain": [
       "dict_values(['programming', 'natural', 'natural', 'programming', 'programming', 'programming', 3])"
      ]
     },
     "execution_count": 13,
     "metadata": {},
     "output_type": "execute_result"
    }
   ],
   "source": [
    "#procurando os valores do dicionario\n",
    "d.values()"
   ]
  },
  {
   "cell_type": "code",
   "execution_count": 14,
   "id": "33a43701",
   "metadata": {},
   "outputs": [
    {
     "data": {
      "text/plain": [
       "7"
      ]
     },
     "execution_count": 14,
     "metadata": {},
     "output_type": "execute_result"
    }
   ],
   "source": [
    "#comprimento do dicionario\n",
    "len(d)"
   ]
  }
 ],
 "metadata": {
  "kernelspec": {
   "display_name": "Python 3 (ipykernel)",
   "language": "python",
   "name": "python3"
  },
  "language_info": {
   "codemirror_mode": {
    "name": "ipython",
    "version": 3
   },
   "file_extension": ".py",
   "mimetype": "text/x-python",
   "name": "python",
   "nbconvert_exporter": "python",
   "pygments_lexer": "ipython3",
   "version": "3.9.12"
  }
 },
 "nbformat": 4,
 "nbformat_minor": 5
}
