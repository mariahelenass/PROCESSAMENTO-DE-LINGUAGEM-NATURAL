{
 "cells": [
  {
   "cell_type": "code",
   "execution_count": 1,
   "id": "eb351856",
   "metadata": {},
   "outputs": [],
   "source": [
    "import nltk"
   ]
  },
  {
   "cell_type": "code",
   "execution_count": 2,
   "id": "a81d81dc",
   "metadata": {},
   "outputs": [],
   "source": [
    "txt = \"Acho que hoje irá chover\""
   ]
  },
  {
   "cell_type": "code",
   "execution_count": 4,
   "id": "ffd9dc63",
   "metadata": {},
   "outputs": [],
   "source": [
    "tokens = nltk.word_tokenize(txt)"
   ]
  },
  {
   "cell_type": "code",
   "execution_count": 5,
   "id": "90f3a006",
   "metadata": {},
   "outputs": [
    {
     "data": {
      "text/plain": [
       "['Acho', 'que', 'hoje', 'irá', 'chover']"
      ]
     },
     "execution_count": 5,
     "metadata": {},
     "output_type": "execute_result"
    }
   ],
   "source": [
    "tokens"
   ]
  },
  {
   "cell_type": "code",
   "execution_count": 6,
   "id": "b61d3bed",
   "metadata": {},
   "outputs": [],
   "source": [
    "#Bigramas\n",
    "bigramas = nltk.bigrams(tokens)"
   ]
  },
  {
   "cell_type": "code",
   "execution_count": 7,
   "id": "a615851d",
   "metadata": {},
   "outputs": [
    {
     "name": "stdout",
     "output_type": "stream",
     "text": [
      "('Acho', 'que')\n",
      "('que', 'hoje')\n",
      "('hoje', 'irá')\n",
      "('irá', 'chover')\n"
     ]
    }
   ],
   "source": [
    "for item in bigramas:\n",
    "    print(item)"
   ]
  },
  {
   "cell_type": "code",
   "execution_count": 11,
   "id": "3b54e127",
   "metadata": {},
   "outputs": [],
   "source": [
    "#Trigramas\n",
    "trigramas = nltk.trigrams(tokens)"
   ]
  },
  {
   "cell_type": "code",
   "execution_count": 12,
   "id": "bf151256",
   "metadata": {},
   "outputs": [
    {
     "name": "stdout",
     "output_type": "stream",
     "text": [
      "('Acho', 'que', 'hoje')\n",
      "('que', 'hoje', 'irá')\n",
      "('hoje', 'irá', 'chover')\n"
     ]
    }
   ],
   "source": [
    "for item in trigramas:\n",
    "    print(item)"
   ]
  },
  {
   "cell_type": "code",
   "execution_count": 32,
   "id": "a578126a",
   "metadata": {},
   "outputs": [],
   "source": [
    "#ngramas\n",
    "from nltk.util import ngrams"
   ]
  },
  {
   "cell_type": "code",
   "execution_count": 48,
   "id": "d3721626",
   "metadata": {},
   "outputs": [],
   "source": [
    "txt2 = \"Maria Helena estuda Ciencia de Dados e Inteligencia Artificial\""
   ]
  },
  {
   "cell_type": "code",
   "execution_count": 49,
   "id": "7acba8a4",
   "metadata": {},
   "outputs": [],
   "source": [
    "tokens = nltk.word_tokenize(txt2)"
   ]
  },
  {
   "cell_type": "code",
   "execution_count": 35,
   "id": "1fe91488",
   "metadata": {},
   "outputs": [],
   "source": [
    "bigrams = ngrams(tokens,2)"
   ]
  },
  {
   "cell_type": "code",
   "execution_count": 36,
   "id": "1a033787",
   "metadata": {},
   "outputs": [
    {
     "name": "stdout",
     "output_type": "stream",
     "text": [
      "('Maria', 'Helena')\n",
      "('Helena', 'estuda')\n",
      "('estuda', 'Ciencia')\n",
      "('Ciencia', 'de')\n",
      "('de', 'Dados')\n",
      "('Dados', 'e')\n",
      "('e', 'Inteligencia')\n",
      "('Inteligencia', 'Artificial')\n"
     ]
    }
   ],
   "source": [
    "for item in bigrams:\n",
    "    print (item)"
   ]
  },
  {
   "cell_type": "code",
   "execution_count": 53,
   "id": "ea62e226",
   "metadata": {},
   "outputs": [],
   "source": [
    "txt3 = \"Maria Helena possui perfil no linkedin\""
   ]
  },
  {
   "cell_type": "code",
   "execution_count": 54,
   "id": "1dde7318",
   "metadata": {},
   "outputs": [],
   "source": [
    "tokens = nltk.word_tokenize(txt3)"
   ]
  },
  {
   "cell_type": "code",
   "execution_count": 55,
   "id": "7559255c",
   "metadata": {},
   "outputs": [],
   "source": [
    "fourgrams = ngrams(tokens,4)"
   ]
  },
  {
   "cell_type": "code",
   "execution_count": 56,
   "id": "b1878f53",
   "metadata": {},
   "outputs": [
    {
     "name": "stdout",
     "output_type": "stream",
     "text": [
      "('Maria', 'Helena', 'possui', 'perfil')\n",
      "('Helena', 'possui', 'perfil', 'no')\n",
      "('possui', 'perfil', 'no', 'linkedin')\n"
     ]
    }
   ],
   "source": [
    "for item in fourgrams:\n",
    "    print(item)"
   ]
  },
  {
   "cell_type": "code",
   "execution_count": 65,
   "id": "e9317a9b",
   "metadata": {},
   "outputs": [],
   "source": [
    "#Podeos fazer uma função\n",
    "def n_grams(txt,n):\n",
    "    tokens = nltk.word_tokenize(txt)\n",
    "    grams = ngrams(tokens,n)\n",
    "    return grams"
   ]
  },
  {
   "cell_type": "code",
   "execution_count": 66,
   "id": "1283ac32",
   "metadata": {},
   "outputs": [],
   "source": [
    "txt4 = txt2 + \" \" + txt3"
   ]
  },
  {
   "cell_type": "code",
   "execution_count": 67,
   "id": "ab844ecc",
   "metadata": {},
   "outputs": [
    {
     "data": {
      "text/plain": [
       "'Maria Helena estuda Ciencia de Dados e Inteligencia Artificial Maria Helena possui perfil no linkedin'"
      ]
     },
     "execution_count": 67,
     "metadata": {},
     "output_type": "execute_result"
    }
   ],
   "source": [
    "txt4"
   ]
  },
  {
   "cell_type": "code",
   "execution_count": 68,
   "id": "35288bff",
   "metadata": {},
   "outputs": [],
   "source": [
    "grams = n_grams(txt4,5)"
   ]
  },
  {
   "cell_type": "code",
   "execution_count": 69,
   "id": "f6f1cce5",
   "metadata": {},
   "outputs": [
    {
     "name": "stdout",
     "output_type": "stream",
     "text": [
      "('Maria', 'Helena', 'estuda', 'Ciencia', 'de')\n",
      "('Helena', 'estuda', 'Ciencia', 'de', 'Dados')\n",
      "('estuda', 'Ciencia', 'de', 'Dados', 'e')\n",
      "('Ciencia', 'de', 'Dados', 'e', 'Inteligencia')\n",
      "('de', 'Dados', 'e', 'Inteligencia', 'Artificial')\n",
      "('Dados', 'e', 'Inteligencia', 'Artificial', 'Maria')\n",
      "('e', 'Inteligencia', 'Artificial', 'Maria', 'Helena')\n",
      "('Inteligencia', 'Artificial', 'Maria', 'Helena', 'possui')\n",
      "('Artificial', 'Maria', 'Helena', 'possui', 'perfil')\n",
      "('Maria', 'Helena', 'possui', 'perfil', 'no')\n",
      "('Helena', 'possui', 'perfil', 'no', 'linkedin')\n"
     ]
    }
   ],
   "source": [
    "for item in grams:\n",
    "    print(item)"
   ]
  }
 ],
 "metadata": {
  "kernelspec": {
   "display_name": "Python 3 (ipykernel)",
   "language": "python",
   "name": "python3"
  },
  "language_info": {
   "codemirror_mode": {
    "name": "ipython",
    "version": 3
   },
   "file_extension": ".py",
   "mimetype": "text/x-python",
   "name": "python",
   "nbconvert_exporter": "python",
   "pygments_lexer": "ipython3",
   "version": "3.9.12"
  }
 },
 "nbformat": 4,
 "nbformat_minor": 5
}
