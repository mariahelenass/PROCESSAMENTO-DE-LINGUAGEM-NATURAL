{
 "cells": [
  {
   "cell_type": "code",
   "execution_count": 1,
   "id": "70ddb576",
   "metadata": {},
   "outputs": [],
   "source": [
    "import nltk"
   ]
  },
  {
   "cell_type": "code",
   "execution_count": 2,
   "id": "3278dfb2",
   "metadata": {},
   "outputs": [],
   "source": [
    "txt = \"Eu irei andar de bicicleta no parque ibirapuera\""
   ]
  },
  {
   "cell_type": "code",
   "execution_count": 3,
   "id": "09aa70de",
   "metadata": {},
   "outputs": [],
   "source": [
    "txt_tag = nltk.pos_tag(nltk.word_tokenize(txt))"
   ]
  },
  {
   "cell_type": "code",
   "execution_count": 4,
   "id": "7c41e938",
   "metadata": {},
   "outputs": [
    {
     "data": {
      "text/plain": [
       "[('Eu', 'NNP'),\n",
       " ('irei', 'NN'),\n",
       " ('andar', 'NN'),\n",
       " ('de', 'IN'),\n",
       " ('bicicleta', 'FW'),\n",
       " ('no', 'DT'),\n",
       " ('parque', 'NN'),\n",
       " ('ibirapuera', 'NN')]"
      ]
     },
     "execution_count": 4,
     "metadata": {},
     "output_type": "execute_result"
    }
   ],
   "source": [
    "txt_tag"
   ]
  },
  {
   "cell_type": "code",
   "execution_count": 5,
   "id": "b76d5ef7",
   "metadata": {},
   "outputs": [],
   "source": [
    "sequencia = '''\n",
    "        Chunk:\n",
    "        {<NNPS>+}\n",
    "        {<NNP>+}\n",
    "        {<NN>+} '''\n",
    "        \n",
    "        "
   ]
  },
  {
   "cell_type": "code",
   "execution_count": 7,
   "id": "7df34b10",
   "metadata": {},
   "outputs": [],
   "source": [
    "NPChunker = nltk.RegexpParser(sequencia)"
   ]
  },
  {
   "cell_type": "code",
   "execution_count": 9,
   "id": "ed7ca504",
   "metadata": {},
   "outputs": [],
   "source": [
    "resultado =  NPChunker.parse(txt_tag)"
   ]
  },
  {
   "cell_type": "code",
   "execution_count": 11,
   "id": "436fd34e",
   "metadata": {},
   "outputs": [
    {
     "name": "stdout",
     "output_type": "stream",
     "text": [
      "(S\n",
      "  (Chunk Eu/NNP)\n",
      "  (Chunk irei/NN andar/NN)\n",
      "  de/IN\n",
      "  bicicleta/FW\n",
      "  no/DT\n",
      "  (Chunk parque/NN ibirapuera/NN))\n"
     ]
    }
   ],
   "source": [
    "# Palavras com praticamente mesmo significiado \n",
    "print (resultado)"
   ]
  },
  {
   "cell_type": "code",
   "execution_count": null,
   "id": "527d2395",
   "metadata": {},
   "outputs": [],
   "source": [
    "# Usando para achar entidades nomeadas"
   ]
  },
  {
   "cell_type": "code",
   "execution_count": 14,
   "id": "cfd05f2f",
   "metadata": {},
   "outputs": [],
   "source": [
    "text = open(\"example.txt\").read()"
   ]
  },
  {
   "cell_type": "code",
   "execution_count": 15,
   "id": "b9751df1",
   "metadata": {},
   "outputs": [
    {
     "data": {
      "text/plain": [
       "'World War II (WWII or WW2), also known as the Second World War, was a global war that lasted from 1939 to 1945, though related conflicts began earlier. It involved the vast majority of the world\\'s nationsâ€”including all of the great powersâ€”eventually forming two opposing military alliances: the Allies and the Axis. It was the most widespread war in history, and directly involved more than 100 million people from over 30 countries. In a state of \"total war\", the major participants threw their entire economic, industrial, and scientific capabilities behind the war effort, erasing the distinction between civilian and military resources. Marked by mass deaths of civilians, including the Holocaust (in which approximately 11 million people were killed) and the strategic bombing of industrial and population centres (in which approximately one million were killed, and which included the atomic bombings of Hiroshima and Nagasaki), it resulted in an estimated 50 million to 85 million fatalities. These made World War II the deadliest conflict in human history.\\n\\nThe Empire of Japan aimed to dominate Asia and the Pacific and was already at war with the Republic of China in 1937, but the world war is generally said to have begun on 1 September 1939 with the invasion of Poland by Germany and subsequent declarations of war on Germany by France and the United Kingdom. From late 1939 to early 1941, in a series of campaigns and treaties, Germany conquered or controlled much of continental Europe, and formed the Axis alliance with Italy and Japan. Based on the Molotovâ€“Ribbentrop Pact of August 1939, Germany and the Soviet Union partitioned and annexed territories of their European neighbours, Poland, Finland, Romania and the Baltic states. For a year starting in late June 1940, the United Kingdom and the British Commonwealth were the only Allied forces continuing the fight against the European Axis powers, with campaigns in North Africa and the Horn of Africa, the aerial Battle of Britain and the Blitz bombing campaign, as well as the long-running Battle of the Atlantic. In June 1941, the European Axis powers launched an invasion of the Soviet Union, opening the largest land theatre of war in history, which trapped the major part of the Axis\\' military forces into a war of attrition. In December 1941, Japan attacked the United States and European territories in the Pacific Ocean, and quickly conquered much of the Western Pacific.\\n\\nThe Axis advance halted in 1942 when Japan lost the critical Battle of Midway, near Hawaii, and Germany was defeated in North Africa and then, decisively, at Stalingrad in the Soviet Union. In 1943, with a series of German defeats on the Eastern Front, the Allied invasion of Italy which brought about Italian surrender, and Allied victories in the Pacific, the Axis lost the initiative and undertook strategic retreat on all fronts. In 1944, the Western Allies invaded German-occupied France, while the Soviet Union regained all of its territorial losses and invaded Germany and its allies. During 1944 and 1945 the Japanese suffered major reverses in mainland Asia in South Central China and Burma, while the Allies crippled the Japanese Navy and captured key Western Pacific islands.\\n\\nThe war in Europe ended with an invasion of Germany by the Western Allies and the Soviet Union culminating in the capture of Berlin by Soviet and Polish troops and the subsequent German unconditional surrender on 8 May 1945. Following the Potsdam Declaration by the Allies on 26 July 1945 and the refusal of Japan to surrender under its terms, the United States dropped atomic bombs on the Japanese cities of Hiroshima and Nagasaki on 6 August and 9 August respectively. With an invasion of the Japanese archipelago imminent, the possibility of additional atomic bombings, and the Soviet Union\\'s declaration of war on Japan and invasion of Manchuria, Japan surrendered on 15 August 1945. Thus ended the war in Asia, cementing the total victory of the Allies.\\n\\nWorld War II altered the political alignment and social structure of the world. The United Nations (UN) was established to foster international co-operation and prevent future conflicts. The victorious great powersâ€”the United States, the Soviet Union, China, the United Kingdom, and Franceâ€”became the permanent members of the United Nations Security Council. The Soviet Union and the United States emerged as rival superpowers, setting the stage for the Cold War, which lasted for the next 46 years. Meanwhile, the influence of European great powers waned, while the decolonisation of Asia and Africa began. Most countries whose industries had been damaged moved towards economic recovery. Political integration, especially in Europe, emerged as an effort to end pre-war enmities and to create a common identity.'"
      ]
     },
     "execution_count": 15,
     "metadata": {},
     "output_type": "execute_result"
    }
   ],
   "source": [
    "text"
   ]
  },
  {
   "cell_type": "code",
   "execution_count": 18,
   "id": "5314b7e4",
   "metadata": {},
   "outputs": [],
   "source": [
    "text_tag = nltk.pos_tag(nltk.word_tokenize(text))"
   ]
  },
  {
   "cell_type": "code",
   "execution_count": 22,
   "id": "7f820983",
   "metadata": {},
   "outputs": [],
   "source": [
    "text_ch = nltk.ne_chunk(text_tag)"
   ]
  },
  {
   "cell_type": "code",
   "execution_count": 24,
   "id": "ba39387e",
   "metadata": {},
   "outputs": [
    {
     "name": "stdout",
     "output_type": "stream",
     "text": [
      "ORGANIZATION WWII\n",
      "ORGANIZATION WW2\n",
      "ORGANIZATION Second\n",
      "ORGANIZATION Axis\n",
      "ORGANIZATION Hiroshima\n",
      "GPE Nagasaki\n",
      "ORGANIZATION Empire of Japan\n",
      "GPE Asia\n",
      "ORGANIZATION Pacific\n",
      "ORGANIZATION Republic\n",
      "GPE China\n",
      "GPE Poland\n",
      "GPE Germany\n",
      "GPE Germany\n",
      "GPE France\n",
      "ORGANIZATION United Kingdom\n",
      "GPE Germany\n",
      "GPE Europe\n",
      "ORGANIZATION Axis\n",
      "GPE Italy\n",
      "GPE Japan\n",
      "GPE Germany\n",
      "GPE Soviet Union\n",
      "GPE European\n",
      "GPE Poland\n",
      "GPE Finland\n",
      "GPE Romania\n",
      "GPE Baltic\n",
      "ORGANIZATION United Kingdom\n",
      "GPE British\n",
      "ORGANIZATION European Axis\n",
      "GPE North Africa\n",
      "ORGANIZATION Horn\n",
      "GPE Africa\n",
      "GPE Britain\n",
      "GPE Blitz\n",
      "ORGANIZATION Atlantic\n",
      "ORGANIZATION European Axis\n",
      "GPE Soviet Union\n",
      "ORGANIZATION Axis\n",
      "GPE Japan\n",
      "GPE United States\n",
      "GPE European\n",
      "ORGANIZATION Pacific Ocean\n",
      "LOCATION Western Pacific\n",
      "ORGANIZATION Axis\n",
      "PERSON Japan\n",
      "GPE Midway\n",
      "GPE Hawaii\n",
      "GPE Germany\n",
      "GPE North Africa\n",
      "FACILITY Stalingrad\n",
      "GPE Soviet Union\n",
      "GPE German\n",
      "LOCATION Eastern Front\n",
      "GPE Italy\n",
      "GPE Italian\n",
      "GPE Allied\n",
      "ORGANIZATION Pacific\n",
      "ORGANIZATION Axis\n",
      "LOCATION Western\n",
      "GPE France\n",
      "GPE Soviet Union\n",
      "GPE Germany\n",
      "GPE Japanese\n",
      "GPE Asia\n",
      "GPE South\n",
      "GPE China\n",
      "GPE Burma\n",
      "GPE Japanese\n",
      "ORGANIZATION Navy\n",
      "LOCATION Western Pacific\n",
      "GPE Europe\n",
      "GPE Germany\n",
      "LOCATION Western\n",
      "GPE Soviet Union\n",
      "GPE Berlin\n",
      "GPE Soviet\n",
      "GPE Polish\n",
      "GPE German\n",
      "ORGANIZATION Potsdam\n",
      "GPE Japan\n",
      "GPE United States\n",
      "GPE Japanese\n",
      "ORGANIZATION Hiroshima\n",
      "PERSON Nagasaki\n",
      "GPE Japanese\n",
      "GPE Soviet Union\n",
      "GPE Japan\n",
      "GPE Manchuria\n",
      "GPE Japan\n",
      "GPE Asia\n",
      "ORGANIZATION United Nations\n",
      "GPE United States\n",
      "GPE Soviet Union\n",
      "GPE China\n",
      "ORGANIZATION United Kingdom\n",
      "ORGANIZATION United Nations\n",
      "ORGANIZATION Security Council\n",
      "GPE Soviet Union\n",
      "GPE United States\n",
      "GPE European\n",
      "GPE Asia\n",
      "PERSON Africa\n",
      "GPE Europe\n"
     ]
    }
   ],
   "source": [
    "# Entidades nomeadas \n",
    "for chunk in text_ch:\n",
    "    if hasattr(chunk, 'label'):\n",
    "        print (chunk.label(), \" \".join(c[0] for c in chunk.leaves()))"
   ]
  }
 ],
 "metadata": {
  "kernelspec": {
   "display_name": "Python 3 (ipykernel)",
   "language": "python",
   "name": "python3"
  },
  "language_info": {
   "codemirror_mode": {
    "name": "ipython",
    "version": 3
   },
   "file_extension": ".py",
   "mimetype": "text/x-python",
   "name": "python",
   "nbconvert_exporter": "python",
   "pygments_lexer": "ipython3",
   "version": "3.9.12"
  }
 },
 "nbformat": 4,
 "nbformat_minor": 5
}
