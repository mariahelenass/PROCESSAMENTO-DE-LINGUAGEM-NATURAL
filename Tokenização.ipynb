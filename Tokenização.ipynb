{
 "cells": [
  {
   "cell_type": "code",
   "execution_count": 22,
   "id": "cdbd2894",
   "metadata": {},
   "outputs": [],
   "source": [
    "import nltk"
   ]
  },
  {
   "cell_type": "code",
   "execution_count": 23,
   "id": "e5f8b56a",
   "metadata": {},
   "outputs": [],
   "source": [
    "my_string = \"Estou aprendendo Processamento de Linguagem Natural\""
   ]
  },
  {
   "cell_type": "code",
   "execution_count": 24,
   "id": "18d8d874",
   "metadata": {},
   "outputs": [],
   "source": [
    "tokens = nltk.word_tokenize(my_string)"
   ]
  },
  {
   "cell_type": "code",
   "execution_count": 25,
   "id": "9c389dd4",
   "metadata": {},
   "outputs": [
    {
     "data": {
      "text/plain": [
       "['Estou', 'aprendendo', 'Processamento', 'de', 'Linguagem', 'Natural']"
      ]
     },
     "execution_count": 25,
     "metadata": {},
     "output_type": "execute_result"
    }
   ],
   "source": [
    "tokens"
   ]
  },
  {
   "cell_type": "code",
   "execution_count": 26,
   "id": "aa910db2",
   "metadata": {},
   "outputs": [
    {
     "data": {
      "text/plain": [
       "6"
      ]
     },
     "execution_count": 26,
     "metadata": {},
     "output_type": "execute_result"
    }
   ],
   "source": [
    "len(tokens)"
   ]
  },
  {
   "cell_type": "code",
   "execution_count": 27,
   "id": "5d1344af",
   "metadata": {},
   "outputs": [],
   "source": [
    "phrase = \"Estou aprendendo Processamento de Linguagem Natural. Estou gostando bastante\""
   ]
  },
  {
   "cell_type": "code",
   "execution_count": 28,
   "id": "e834509f",
   "metadata": {},
   "outputs": [],
   "source": [
    "tokens_sent = nltk.sent_tokenize(phrase)"
   ]
  },
  {
   "cell_type": "code",
   "execution_count": 29,
   "id": "cbdde94a",
   "metadata": {},
   "outputs": [
    {
     "data": {
      "text/plain": [
       "['Estou aprendendo Processamento de Linguagem Natural.',\n",
       " 'Estou gostando bastante']"
      ]
     },
     "execution_count": 29,
     "metadata": {},
     "output_type": "execute_result"
    }
   ],
   "source": [
    "tokens_sent"
   ]
  },
  {
   "cell_type": "code",
   "execution_count": 30,
   "id": "b8f81819",
   "metadata": {},
   "outputs": [
    {
     "data": {
      "text/plain": [
       "2"
      ]
     },
     "execution_count": 30,
     "metadata": {},
     "output_type": "execute_result"
    }
   ],
   "source": [
    "len(tokens_sent)"
   ]
  },
  {
   "cell_type": "code",
   "execution_count": 33,
   "id": "5db28209",
   "metadata": {},
   "outputs": [
    {
     "name": "stdout",
     "output_type": "stream",
     "text": [
      "['Estou', 'aprendendo', 'Processamento', 'de', 'Linguagem', 'Natural', '.']\n",
      "['Estou', 'gostando', 'bastante']\n"
     ]
    }
   ],
   "source": [
    "for item in tokens_sent:\n",
    "    print(nltk.word_tokenize(item))"
   ]
  }
 ],
 "metadata": {
  "kernelspec": {
   "display_name": "Python 3 (ipykernel)",
   "language": "python",
   "name": "python3"
  },
  "language_info": {
   "codemirror_mode": {
    "name": "ipython",
    "version": 3
   },
   "file_extension": ".py",
   "mimetype": "text/x-python",
   "name": "python",
   "nbconvert_exporter": "python",
   "pygments_lexer": "ipython3",
   "version": "3.9.12"
  }
 },
 "nbformat": 4,
 "nbformat_minor": 5
}
