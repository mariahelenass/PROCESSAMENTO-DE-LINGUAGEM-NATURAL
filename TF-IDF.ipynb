{
 "cells": [
  {
   "cell_type": "code",
   "execution_count": 45,
   "id": "61c13a58",
   "metadata": {},
   "outputs": [],
   "source": [
    "import nltk"
   ]
  },
  {
   "cell_type": "code",
   "execution_count": 46,
   "id": "8a14e321",
   "metadata": {},
   "outputs": [],
   "source": [
    "dataset = {\n",
    "    \"tfidf_1.txt\": open(\"tfidf_1.txt\").read(),\n",
    "    \"tfidf_2.txt\": open(\"tfidf_2.txt\").read(),\n",
    "}"
   ]
  },
  {
   "cell_type": "code",
   "execution_count": 47,
   "id": "2ae6e91a",
   "metadata": {},
   "outputs": [
    {
     "data": {
      "text/plain": [
       "dict_keys(['tfidf_1.txt', 'tfidf_2.txt'])"
      ]
     },
     "execution_count": 47,
     "metadata": {},
     "output_type": "execute_result"
    }
   ],
   "source": [
    "dataset.keys()"
   ]
  },
  {
   "cell_type": "code",
   "execution_count": 48,
   "id": "4a436c1b",
   "metadata": {},
   "outputs": [
    {
     "data": {
      "text/plain": [
       "'World War II (WWII or WW2), also known as the Second World War, was a global war that lasted from 1939 to 1945, though related conflicts began earlier. It involved the vast majority of the world\\'s nationsâ€”including all of the great powersâ€”eventually forming two opposing military alliances: the Allies and the Axis. It was the most widespread war in history, and directly involved more than 100 million people from over 30 countries. In a state of \"total war\", the major participants threw their entire economic, industrial, and scientific capabilities behind the war effort, erasing the distinction between civilian and military resources. Marked by mass deaths of civilians, including the Holocaust (in which approximately 11 million people were killed) and the strategic bombing of industrial and population centres (in which approximately one million were killed, and which included the atomic bombings of Hiroshima and Nagasaki), it resulted in an estimated 50 million to 85 million fatalities. These made World War II the deadliest conflict in human history.\\n\\nThe Empire of Japan aimed to dominate Asia and the Pacific and was already at war with the Republic of China in 1937, but the world war is generally said to have begun on 1 September 1939 with the invasion of Poland by Germany and subsequent declarations of war on Germany by France and the United Kingdom. From late 1939 to early 1941, in a series of campaigns and treaties, Germany conquered or controlled much of continental Europe, and formed the Axis alliance with Italy and Japan. Based on the Molotovâ€“Ribbentrop Pact of August 1939, Germany and the Soviet Union partitioned and annexed territories of their European neighbours, Poland, Finland, Romania and the Baltic states. For a year starting in late June 1940, the United Kingdom and the British Commonwealth were the only Allied forces continuing the fight against the European Axis powers, with campaigns in North Africa and the Horn of Africa, the aerial Battle of Britain and the Blitz bombing campaign, as well as the long-running Battle of the Atlantic. In June 1941, the European Axis powers launched an invasion of the Soviet Union, opening the largest land theatre of war in history, which trapped the major part of the Axis\\' military forces into a war of attrition. In December 1941, Japan attacked the United States and European territories in the Pacific Ocean, and quickly conquered much of the Western Pacific.\\n\\nThe Axis advance halted in 1942 when Japan lost the critical Battle of Midway, near Hawaii, and Germany was defeated in North Africa and then, decisively, at Stalingrad in the Soviet Union. In 1943, with a series of German defeats on the Eastern Front, the Allied invasion of Italy which brought about Italian surrender, and Allied victories in the Pacific, the Axis lost the initiative and undertook strategic retreat on all fronts. In 1944, the Western Allies invaded German-occupied France, while the Soviet Union regained all of its territorial losses and invaded Germany and its allies. During 1944 and 1945 the Japanese suffered major reverses in mainland Asia in South Central China and Burma, while the Allies crippled the Japanese Navy and captured key Western Pacific islands.\\n\\nThe war in Europe ended with an invasion of Germany by the Western Allies and the Soviet Union culminating in the capture of Berlin by Soviet and Polish troops and the subsequent German unconditional surrender on 8 May 1945. Following the Potsdam Declaration by the Allies on 26 July 1945 and the refusal of Japan to surrender under its terms, the United States dropped atomic bombs on the Japanese cities of Hiroshima and Nagasaki on 6 August and 9 August respectively. With an invasion of the Japanese archipelago imminent, the possibility of additional atomic bombings, and the Soviet Union\\'s declaration of war on Japan and invasion of Manchuria, Japan surrendered on 15 August 1945. Thus ended the war in Asia, cementing the total victory of the Allies.\\n\\nWorld War II altered the political alignment and social structure of the world. The United Nations (UN) was established to foster international co-operation and prevent future conflicts. The victorious great powersâ€”the United States, the Soviet Union, China, the United Kingdom, and Franceâ€”became the permanent members of the United Nations Security Council. The Soviet Union and the United States emerged as rival superpowers, setting the stage for the Cold War, which lasted for the next 46 years. Meanwhile, the influence of European great powers waned, while the decolonisation of Asia and Africa began. Most countries whose industries had been damaged moved towards economic recovery. Political integration, especially in Europe, emerged as an effort to end pre-war enmities and to create a common identity.'"
      ]
     },
     "execution_count": 48,
     "metadata": {},
     "output_type": "execute_result"
    }
   ],
   "source": [
    "dataset[\"tfidf_1.txt\"]"
   ]
  },
  {
   "cell_type": "code",
   "execution_count": 49,
   "id": "c473869b",
   "metadata": {},
   "outputs": [
    {
     "data": {
      "text/plain": [
       "'Se voce curte rap , trap ou hip hop , eh provavel que ja tenha ouvido varios hits de Travis Scott, que eh um rapper, cantor e compositor americano de grande destaque na cena internacional. Conhecido tambem como La Flame e Cactus Jack, esse ultimo apelido por conta do seu selo Cactus Jack Records, Travis Scott liberou seu primeiro album em 2015, intitulado Rodeo. Os proximos albuns de sua discografia, Travis Scott se tornou um dos rappers mais aclamados.'"
      ]
     },
     "execution_count": 49,
     "metadata": {},
     "output_type": "execute_result"
    }
   ],
   "source": [
    "dataset[\"tfidf_2.txt\"]"
   ]
  },
  {
   "cell_type": "code",
   "execution_count": 50,
   "id": "3ae5714f",
   "metadata": {},
   "outputs": [],
   "source": [
    "def tf(dataset, file_name):\n",
    "    text = dataset[file_name]\n",
    "    tokens = nltk.word_tokenize(text)\n",
    "    fd = nltk.FreqDist(tokens)\n",
    "    return(fd)"
   ]
  },
  {
   "cell_type": "code",
   "execution_count": 53,
   "id": "82a20d97",
   "metadata": {},
   "outputs": [
    {
     "data": {
      "text/plain": [
       "FreqDist({'the': 81, ',': 54, 'and': 46, 'of': 39, '.': 27, 'in': 21, 'war': 12, 'on': 11, 'to': 9, 'United': 9, ...})"
      ]
     },
     "execution_count": 53,
     "metadata": {},
     "output_type": "execute_result"
    }
   ],
   "source": [
    "tf(dataset, \"tfidf_1.txt\")"
   ]
  },
  {
   "cell_type": "code",
   "execution_count": 54,
   "id": "6fdd5a03",
   "metadata": {},
   "outputs": [
    {
     "data": {
      "text/plain": [
       "FreqDist({',': 8, 'de': 3, 'Travis': 3, 'Scott': 3, '.': 3, 'eh': 2, 'que': 2, 'um': 2, 'e': 2, 'Cactus': 2, ...})"
      ]
     },
     "execution_count": 54,
     "metadata": {},
     "output_type": "execute_result"
    }
   ],
   "source": [
    "tf(dataset, \"tfidf_2.txt\")"
   ]
  },
  {
   "cell_type": "code",
   "execution_count": 59,
   "id": "4df17eaa",
   "metadata": {},
   "outputs": [],
   "source": [
    "import math\n",
    "\n",
    "def idf(dataset, term):\n",
    "    count = [term in dataset[file_name] for file_name in dataset]\n",
    "    inv_df = math.log(len(count)/sum(count))\n",
    "    return inv_df"
   ]
  },
  {
   "cell_type": "code",
   "execution_count": 66,
   "id": "a41d7c9d",
   "metadata": {},
   "outputs": [
    {
     "data": {
      "text/plain": [
       "0.6931471805599453"
      ]
     },
     "execution_count": 66,
     "metadata": {},
     "output_type": "execute_result"
    }
   ],
   "source": [
    "idf(dataset, \"war\")"
   ]
  },
  {
   "cell_type": "code",
   "execution_count": 75,
   "id": "7c1b035b",
   "metadata": {},
   "outputs": [],
   "source": [
    "def tfidf(dataset, file_name, n):\n",
    "    term_scores = {}\n",
    "    file_fd = tf(dataset, file_name)\n",
    "    for term in file_fd:\n",
    "        if term.isalpha():\n",
    "            idf_val =  idf(dataset, term)\n",
    "            tf_val = tf(dataset, file_name)[term]\n",
    "            tfidf_val = tf_val + idf_val\n",
    "            term_scores[term] = round(tfidf_val,2)\n",
    "    return sorted(term_scores.items(), key = lambda x:-x[1])[:n]"
   ]
  },
  {
   "cell_type": "code",
   "execution_count": 77,
   "id": "0d6f9a51",
   "metadata": {},
   "outputs": [
    {
     "data": {
      "text/plain": [
       "[('the', 81.69),\n",
       " ('and', 46.0),\n",
       " ('of', 39.69),\n",
       " ('in', 21.0),\n",
       " ('war', 12.69),\n",
       " ('on', 11.0),\n",
       " ('United', 9.69),\n",
       " ('Soviet', 9.69),\n",
       " ('to', 9.0),\n",
       " ('Union', 8.69)]"
      ]
     },
     "execution_count": 77,
     "metadata": {},
     "output_type": "execute_result"
    }
   ],
   "source": [
    "tfidf(dataset, \"tfidf_1.txt\", 10)"
   ]
  },
  {
   "cell_type": "code",
   "execution_count": 79,
   "id": "1433ad09",
   "metadata": {},
   "outputs": [
    {
     "name": "stdout",
     "output_type": "stream",
     "text": [
      "tfidf_1.txt: \n",
      " [('the', 81.69), ('and', 46.0), ('of', 39.69), ('in', 21.0), ('war', 12.69)] \n",
      " \n",
      "tfidf_2.txt: \n",
      " [('Travis', 3.69), ('Scott', 3.69), ('de', 3.0), ('Cactus', 2.69), ('Jack', 2.69)] \n",
      " \n"
     ]
    }
   ],
   "source": [
    "for file_name in dataset:\n",
    "    print(\"{0}: \\n {1} \\n \".format(file_name, tfidf(dataset,file_name,5)))"
   ]
  }
 ],
 "metadata": {
  "kernelspec": {
   "display_name": "Python 3 (ipykernel)",
   "language": "python",
   "name": "python3"
  },
  "language_info": {
   "codemirror_mode": {
    "name": "ipython",
    "version": 3
   },
   "file_extension": ".py",
   "mimetype": "text/x-python",
   "name": "python",
   "nbconvert_exporter": "python",
   "pygments_lexer": "ipython3",
   "version": "3.9.12"
  }
 },
 "nbformat": 4,
 "nbformat_minor": 5
}
