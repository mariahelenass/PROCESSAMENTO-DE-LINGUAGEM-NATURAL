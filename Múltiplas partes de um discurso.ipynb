{
 "cells": [
  {
   "cell_type": "markdown",
   "id": "0e94562f",
   "metadata": {},
   "source": [
    "over, spoker, answer"
   ]
  },
  {
   "cell_type": "code",
   "execution_count": 1,
   "id": "ae06587e",
   "metadata": {},
   "outputs": [],
   "source": [
    "import nltk"
   ]
  },
  {
   "cell_type": "code",
   "execution_count": 3,
   "id": "fb941f60",
   "metadata": {},
   "outputs": [],
   "source": [
    "alice = nltk.corpus.gutenberg.words(\"carroll-alice.txt\")"
   ]
  },
  {
   "cell_type": "code",
   "execution_count": 4,
   "id": "470b088b",
   "metadata": {},
   "outputs": [],
   "source": [
    "alice_norm = [word.lower() for word in alice if word.isalpha()]"
   ]
  },
  {
   "cell_type": "code",
   "execution_count": 5,
   "id": "6f530d26",
   "metadata": {},
   "outputs": [],
   "source": [
    "alice_tag = nltk.pos_tag(alice_norm, tagset = \"universal\")"
   ]
  },
  {
   "cell_type": "code",
   "execution_count": 7,
   "id": "0a83629a",
   "metadata": {},
   "outputs": [],
   "source": [
    "alice_cfd = nltk.ConditionalFreqDist(alice_tag)"
   ]
  },
  {
   "cell_type": "code",
   "execution_count": 8,
   "id": "ed1f43ad",
   "metadata": {},
   "outputs": [
    {
     "data": {
      "text/plain": [
       "<ConditionalFreqDist with 2569 conditions>"
      ]
     },
     "execution_count": 8,
     "metadata": {},
     "output_type": "execute_result"
    }
   ],
   "source": [
    "alice_cfd"
   ]
  },
  {
   "cell_type": "code",
   "execution_count": 10,
   "id": "1750e234",
   "metadata": {},
   "outputs": [
    {
     "data": {
      "text/plain": [
       "FreqDist({'ADP': 31, 'PRT': 5, 'ADV': 4})"
      ]
     },
     "execution_count": 10,
     "metadata": {},
     "output_type": "execute_result"
    }
   ],
   "source": [
    "# Frequencia de classificação de uma palavra\n",
    "alice_cfd[\"over\"]"
   ]
  },
  {
   "cell_type": "code",
   "execution_count": 13,
   "id": "1f22fddb",
   "metadata": {},
   "outputs": [
    {
     "data": {
      "text/plain": [
       "FreqDist({'NOUN': 51})"
      ]
     },
     "execution_count": 13,
     "metadata": {},
     "output_type": "execute_result"
    }
   ],
   "source": [
    "alice_cfd[\"rabbit\"]"
   ]
  }
 ],
 "metadata": {
  "kernelspec": {
   "display_name": "Python 3 (ipykernel)",
   "language": "python",
   "name": "python3"
  },
  "language_info": {
   "codemirror_mode": {
    "name": "ipython",
    "version": 3
   },
   "file_extension": ".py",
   "mimetype": "text/x-python",
   "name": "python",
   "nbconvert_exporter": "python",
   "pygments_lexer": "ipython3",
   "version": "3.9.12"
  }
 },
 "nbformat": 4,
 "nbformat_minor": 5
}
